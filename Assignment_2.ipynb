{
  "nbformat": 4,
  "nbformat_minor": 0,
  "metadata": {
    "colab": {
      "provenance": [],
      "authorship_tag": "ABX9TyNqRU8lW7OfzgK06BYfguET",
      "include_colab_link": true
    },
    "kernelspec": {
      "name": "python3",
      "display_name": "Python 3"
    },
    "language_info": {
      "name": "python"
    }
  },
  "cells": [
    {
      "cell_type": "markdown",
      "metadata": {
        "id": "view-in-github",
        "colab_type": "text"
      },
      "source": [
        "<a href=\"https://colab.research.google.com/github/Amitkumar78347/Assignment-2/blob/main/Assignment_2.ipynb\" target=\"_parent\"><img src=\"https://colab.research.google.com/assets/colab-badge.svg\" alt=\"Open In Colab\"/></a>"
      ]
    },
    {
      "cell_type": "code",
      "execution_count": null,
      "metadata": {
        "id": "m2ImN63LPKZL"
      },
      "outputs": [],
      "source": []
    },
    {
      "cell_type": "markdown",
      "source": [
        "#1) Discuss the string slicing and provide the examples."
      ],
      "metadata": {
        "id": "TJuWQxwjPNne"
      }
    },
    {
      "cell_type": "markdown",
      "source": [
        "String slicing is a powerful feature in Python that allows you to extract substrings from a string by specifying a start and end position. This can be very useful for manipulating and analyzing strings.\n",
        "\n",
        "\n",
        "\n",
        "\n",
        "**The general syntax for string slicing is:**"
      ],
      "metadata": {
        "id": "Sw7ZXOwsPzn3"
      }
    },
    {
      "cell_type": "code",
      "source": [
        "string[start:end:step]\n"
      ],
      "metadata": {
        "id": "BJYmPntXQqvy"
      },
      "execution_count": null,
      "outputs": []
    },
    {
      "cell_type": "markdown",
      "source": [],
      "metadata": {
        "id": "CQ2FKrVTQ25b"
      }
    },
    {
      "cell_type": "markdown",
      "source": [
        "**Basic Slicing**"
      ],
      "metadata": {
        "id": "HIc_R3I8RGT9"
      }
    },
    {
      "cell_type": "code",
      "source": [
        "s = \"Python Programming\"\n",
        "print(s[0:6])  # Output: 'Python'\n"
      ],
      "metadata": {
        "colab": {
          "base_uri": "https://localhost:8080/"
        },
        "id": "7DxKWORzQN78",
        "outputId": "89695181-2aa2-4abd-f446-8448c1fa680e"
      },
      "execution_count": null,
      "outputs": [
        {
          "output_type": "stream",
          "name": "stdout",
          "text": [
            "Python\n"
          ]
        }
      ]
    },
    {
      "cell_type": "markdown",
      "source": [
        "**Omitting the Start or End**"
      ],
      "metadata": {
        "id": "m1oeV-eZQ4Vt"
      }
    },
    {
      "cell_type": "code",
      "source": [
        "print(s[:6])   # Output: 'Python'\n",
        "print(s[7:])   # Output: 'Programming'\n"
      ],
      "metadata": {
        "colab": {
          "base_uri": "https://localhost:8080/"
        },
        "id": "dTxn4GMXRbSH",
        "outputId": "c8405c21-d4d0-4d28-9a04-8f7c02cc47d5"
      },
      "execution_count": null,
      "outputs": [
        {
          "output_type": "stream",
          "name": "stdout",
          "text": [
            "Python\n",
            "Programming\n"
          ]
        }
      ]
    },
    {
      "cell_type": "markdown",
      "source": [
        "**Using Step**"
      ],
      "metadata": {
        "id": "E-_47Ee9Ril1"
      }
    },
    {
      "cell_type": "code",
      "source": [
        "print(s[::2])  # Output: 'Pto rgamn'\n"
      ],
      "metadata": {
        "colab": {
          "base_uri": "https://localhost:8080/"
        },
        "id": "4zmY2GZmRlnG",
        "outputId": "1d047195-b809-48e4-f16f-e50b08ddec53"
      },
      "execution_count": null,
      "outputs": [
        {
          "output_type": "stream",
          "name": "stdout",
          "text": [
            "Pto rgamn\n"
          ]
        }
      ]
    },
    {
      "cell_type": "markdown",
      "source": [
        "**Negative Indices**"
      ],
      "metadata": {
        "id": "Zp4ip8xpRyxV"
      }
    },
    {
      "cell_type": "code",
      "source": [
        "print(s[-11:-1])  # Output: 'Programming'\n"
      ],
      "metadata": {
        "colab": {
          "base_uri": "https://localhost:8080/"
        },
        "id": "voa17SesR0Se",
        "outputId": "b2b7ba68-628c-46a9-d9d6-d386d47fcea2"
      },
      "execution_count": null,
      "outputs": [
        {
          "output_type": "stream",
          "name": "stdout",
          "text": [
            "Programmin\n"
          ]
        }
      ]
    },
    {
      "cell_type": "markdown",
      "source": [
        "**Negative Step**"
      ],
      "metadata": {
        "id": "-z9tG9aTR6qG"
      }
    },
    {
      "cell_type": "code",
      "source": [
        "print(s[::-1])   # Output: 'gnimmargorP nohtyP'\n"
      ],
      "metadata": {
        "colab": {
          "base_uri": "https://localhost:8080/"
        },
        "id": "lxY2flyFR9qI",
        "outputId": "32e7f00b-bf70-4fb8-a8a1-a4a630dfafa1"
      },
      "execution_count": null,
      "outputs": [
        {
          "output_type": "stream",
          "name": "stdout",
          "text": [
            "gnimmargorP nohtyP\n"
          ]
        }
      ]
    },
    {
      "cell_type": "markdown",
      "source": [
        "**Slicing with Step and Negative Indices**"
      ],
      "metadata": {
        "id": "qSdXEIMkSI00"
      }
    },
    {
      "cell_type": "code",
      "source": [
        "print(s[11:1:-1])  # Output: 'grommargorP'\n"
      ],
      "metadata": {
        "colab": {
          "base_uri": "https://localhost:8080/"
        },
        "id": "hgZ2VFgsSLJV",
        "outputId": "ca20785b-ff36-47ca-d264-e1a0021e0608"
      },
      "execution_count": null,
      "outputs": [
        {
          "output_type": "stream",
          "name": "stdout",
          "text": [
            "rgorP noht\n"
          ]
        }
      ]
    },
    {
      "cell_type": "markdown",
      "source": [
        "# 2) Explain the key features of Lists in python."
      ],
      "metadata": {
        "id": "7F3m-s4lSXXl"
      }
    },
    {
      "cell_type": "markdown",
      "source": [
        "Lists in Python are one of the most versatile and widely used data structures. They are mutable, ordered collections of items that can be of any type. Here’s a detailed look at their key features:\n",
        "\n",
        "**Ordered**\n",
        "\n",
        "Lists maintain the order of elements as they were added. This means that the position of elements is preserved, and you can access elements by their index.\n",
        "\n"
      ],
      "metadata": {
        "id": "irLUMVCTSwiV"
      }
    },
    {
      "cell_type": "code",
      "source": [
        "my_list = [10, 20, 30, 40]\n",
        "print(my_list[1])  # Output: 20\n"
      ],
      "metadata": {
        "colab": {
          "base_uri": "https://localhost:8080/"
        },
        "id": "4D60BijGTMho",
        "outputId": "3f2b3d99-0380-444e-bcc1-27f063205d66"
      },
      "execution_count": null,
      "outputs": [
        {
          "output_type": "stream",
          "name": "stdout",
          "text": [
            "20\n"
          ]
        }
      ]
    },
    {
      "cell_type": "markdown",
      "source": [
        "**Mutable**\n",
        "\n",
        "Lists are mutable, meaning you can change their content after creation. You can modify, add, or remove elements.\n",
        "\n"
      ],
      "metadata": {
        "id": "hpEatbd9TT6s"
      }
    },
    {
      "cell_type": "code",
      "source": [
        "my_list = [10, 20, 30]\n",
        "my_list[1] = 25  # Modify element at index 1\n",
        "print(my_list)   # Output: [10, 25, 30]\n",
        "\n",
        "my_list.append(40)  # Add an element to the end\n",
        "print(my_list)      # Output: [10, 25, 30, 40]\n",
        "\n",
        "del my_list[0]  # Remove element at index 0\n",
        "print(my_list)  # Output: [25, 30, 40]\n"
      ],
      "metadata": {
        "colab": {
          "base_uri": "https://localhost:8080/"
        },
        "id": "cQircrDsTaZs",
        "outputId": "87732ac6-983f-42a4-ba49-04d3e7b67943"
      },
      "execution_count": null,
      "outputs": [
        {
          "output_type": "stream",
          "name": "stdout",
          "text": [
            "[10, 25, 30]\n",
            "[10, 25, 30, 40]\n",
            "[25, 30, 40]\n"
          ]
        }
      ]
    },
    {
      "cell_type": "markdown",
      "source": [
        "**Indexed**\n",
        "\n",
        "Elements in a list are indexed starting from 0. You can use these indices to access or manipulate elements.\n",
        "\n"
      ],
      "metadata": {
        "id": "eo4XgtABTmc0"
      }
    },
    {
      "cell_type": "code",
      "source": [
        "my_list = ['a', 'b', 'c']\n",
        "print(my_list[2])  # Output: c\n"
      ],
      "metadata": {
        "colab": {
          "base_uri": "https://localhost:8080/"
        },
        "id": "ZgwUU1aeTx-4",
        "outputId": "1f07a866-9e18-48ad-ba45-d1b1d0addcea"
      },
      "execution_count": null,
      "outputs": [
        {
          "output_type": "stream",
          "name": "stdout",
          "text": [
            "c\n"
          ]
        }
      ]
    },
    {
      "cell_type": "markdown",
      "source": [
        "**Supports Slicing**\n",
        "\n",
        "You can use slicing to access a range of elements from a list.\n",
        "\n"
      ],
      "metadata": {
        "id": "h9JavvetT2FE"
      }
    },
    {
      "cell_type": "code",
      "source": [
        "my_list = [1, 2, 3, 4, 5]\n",
        "print(my_list[1:4])  # Output: [2, 3, 4]\n",
        "print(my_list[:3])   # Output: [1, 2, 3]\n",
        "print(my_list[::2])  # Output: [1, 3, 5]\n"
      ],
      "metadata": {
        "colab": {
          "base_uri": "https://localhost:8080/"
        },
        "id": "8fxqE4nsT80j",
        "outputId": "d8d42da5-4fa2-4430-d76c-b37fc6f22d98"
      },
      "execution_count": null,
      "outputs": [
        {
          "output_type": "stream",
          "name": "stdout",
          "text": [
            "[2, 3, 4]\n",
            "[1, 2, 3]\n",
            "[1, 3, 5]\n"
          ]
        }
      ]
    },
    {
      "cell_type": "markdown",
      "source": [
        "**Common Methods**\n",
        "\n",
        "Lists come with several built-in methods that make them very convenient to use:\n",
        "\n",
        ".append(x): Adds item x to the end of the list.\n",
        "\n",
        ".extend(iterable): Extends the list by appending elements from an iterable.\n",
        "\n",
        ".insert(i, x): Inserts item x at position i.\n",
        "\n",
        ".remove(x): Removes the first item from the list whose value is equal to x.\n",
        "\n",
        ".pop([i]): Removes and returns item at position i in the list. If no index is specified, pop() removes and returns the last item.\n",
        "\n",
        ".clear(): Removes all items from the list.\n",
        "\n",
        ".count(x): Returns the number of times x appears in the list.\n",
        "\n",
        ".sort(key=None, reverse=False): Sorts the items of the list in place.\n",
        "\n",
        ".reverse(): Reverses the elements of the list in place."
      ],
      "metadata": {
        "id": "VI9cdzqFUNXr"
      }
    },
    {
      "cell_type": "markdown",
      "source": [
        "# 3) Describe how to access, modify and delete elements in the LIsts with examples."
      ],
      "metadata": {
        "id": "5q0RYXIZVACL"
      }
    },
    {
      "cell_type": "markdown",
      "source": [
        "**Accessing Elements**\n",
        "\n",
        "Elements in a list are accessed using indexing. Indexing starts from 0 for the first element, 1 for the second element, and so on. Negative indices can be used to access elements from the end of the list."
      ],
      "metadata": {
        "id": "A11Es7QlVZlS"
      }
    },
    {
      "cell_type": "markdown",
      "source": [],
      "metadata": {
        "id": "9oh70FkWVhJS"
      }
    },
    {
      "cell_type": "code",
      "source": [
        "my_list = ['apple', 'banana', 'cherry', 'date']\n",
        "\n",
        "# Accessing elements by positive index\n",
        "print(my_list[0])  # Output: 'apple'\n",
        "print(my_list[2])  # Output: 'cherry'\n",
        "\n",
        "# Accessing elements by negative index\n",
        "print(my_list[-1])  # Output: 'date'\n",
        "print(my_list[-3])  # Output: 'banana'\n",
        "\n",
        "# Accessing a slice of the list\n",
        "print(my_list[1:3])  # Output: ['banana', 'cherry']\n"
      ],
      "metadata": {
        "colab": {
          "base_uri": "https://localhost:8080/"
        },
        "id": "sb3YmyPmVha8",
        "outputId": "bbe912e6-b40d-43a7-87e7-430c0ddd9e04"
      },
      "execution_count": null,
      "outputs": [
        {
          "output_type": "stream",
          "name": "stdout",
          "text": [
            "apple\n",
            "cherry\n",
            "date\n",
            "banana\n",
            "['banana', 'cherry']\n"
          ]
        }
      ]
    },
    {
      "cell_type": "markdown",
      "source": [
        "**Modifying Elements**\n",
        "\n",
        "\n",
        "Lists are mutable, which means you can change their contents. To modify an element, you assign a new value to a specific index.\n",
        "\n"
      ],
      "metadata": {
        "id": "rKZCpFEGVlt7"
      }
    },
    {
      "cell_type": "code",
      "source": [
        "my_list = ['apple', 'banana', 'cherry']\n",
        "\n",
        "# Modifying an element\n",
        "my_list[1] = 'blueberry'\n",
        "print(my_list)  # Output: ['apple', 'blueberry', 'cherry']\n",
        "\n",
        "# Modifying multiple elements using slicing\n",
        "my_list[1:3] = ['kiwi', 'mango']\n",
        "print(my_list)  # Output: ['apple', 'kiwi', 'mango']\n",
        "\n",
        "# Modifying elements with a nested list\n",
        "my_list[2] = ['pear', 'plum']\n",
        "print(my_list)  # Output: ['apple', 'kiwi', ['pear', 'plum']]\n"
      ],
      "metadata": {
        "colab": {
          "base_uri": "https://localhost:8080/"
        },
        "id": "MFm4M7U9Vw76",
        "outputId": "2d0e7017-0885-42f5-9c6b-6c0cd081db29"
      },
      "execution_count": null,
      "outputs": [
        {
          "output_type": "stream",
          "name": "stdout",
          "text": [
            "['apple', 'blueberry', 'cherry']\n",
            "['apple', 'kiwi', 'mango']\n",
            "['apple', 'kiwi', ['pear', 'plum']]\n"
          ]
        }
      ]
    },
    {
      "cell_type": "markdown",
      "source": [
        "**Deleting Elements**\n",
        "\n",
        "You can delete elements from a list using several methods: the del statement, the remove() method, or the pop() method. Each of these methods serves different purposes.\n",
        "\n"
      ],
      "metadata": {
        "id": "OurdFQ7LV5FK"
      }
    },
    {
      "cell_type": "code",
      "source": [
        "my_list = ['apple', 'banana', 'cherry', 'date']\n",
        "\n",
        "# Deleting an element by index\n",
        "del my_list[2]\n",
        "print(my_list)  # Output: ['apple', 'banana', 'date']\n",
        "\n",
        "# Deleting a slice of elements\n",
        "del my_list[1:3]\n",
        "print(my_list)  # Output: ['apple']\n"
      ],
      "metadata": {
        "colab": {
          "base_uri": "https://localhost:8080/"
        },
        "id": "8xQLoFclWBY7",
        "outputId": "d457ea0a-98f0-4ce0-b3c5-3cf6c797b3ac"
      },
      "execution_count": null,
      "outputs": [
        {
          "output_type": "stream",
          "name": "stdout",
          "text": [
            "['apple', 'banana', 'date']\n",
            "['apple']\n"
          ]
        }
      ]
    },
    {
      "cell_type": "code",
      "source": [
        "my_list = ['apple', 'banana', 'cherry', 'date']\n",
        "\n",
        "# Removing an element by value\n",
        "my_list.remove('banana')\n",
        "print(my_list)  # Output: ['apple', 'cherry', 'date']\n",
        "\n",
        "# Attempting to remove an element not in the list will raise an error\n",
        "# my_list.remove('fig')  # This will raise ValueError: list.remove(x): x not in list\n"
      ],
      "metadata": {
        "colab": {
          "base_uri": "https://localhost:8080/"
        },
        "id": "Ryyxfbq2WHcr",
        "outputId": "c6b8ac28-6ef5-4f56-e0c8-a9356ce2e346"
      },
      "execution_count": null,
      "outputs": [
        {
          "output_type": "stream",
          "name": "stdout",
          "text": [
            "['apple', 'cherry', 'date']\n"
          ]
        }
      ]
    },
    {
      "cell_type": "code",
      "source": [
        "my_list = ['apple', 'banana', 'cherry', 'date']\n",
        "\n",
        "# Removing and returning the last element\n",
        "last_element = my_list.pop()\n",
        "print(last_element)  # Output: 'date'\n",
        "print(my_list)  # Output: ['apple', 'banana', 'cherry']\n",
        "\n",
        "# Removing and returning an element by index\n",
        "second_element = my_list.pop(1)\n",
        "print(second_element)  # Output: 'banana'\n",
        "print(my_list)  # Output: ['apple', 'cherry']\n"
      ],
      "metadata": {
        "colab": {
          "base_uri": "https://localhost:8080/"
        },
        "id": "T8rIO3FkWLRh",
        "outputId": "370e3e22-306d-462c-c406-8410ede7302f"
      },
      "execution_count": null,
      "outputs": [
        {
          "output_type": "stream",
          "name": "stdout",
          "text": [
            "date\n",
            "['apple', 'banana', 'cherry']\n",
            "banana\n",
            "['apple', 'cherry']\n"
          ]
        }
      ]
    },
    {
      "cell_type": "markdown",
      "source": [
        "# 4) Compare and contrast tuples and List with examples."
      ],
      "metadata": {
        "id": "YqO3hZkeWaqy"
      }
    },
    {
      "cell_type": "markdown",
      "source": [
        "In Python, lists and tuples are both used to store collections of items but differ significantly in their characteristics and use cases.\n",
        "\n",
        "\n",
        "**Lists are mutable**, meaning you can change their contents after creation. They are defined with square brackets [] and support various methods like .append(), .remove(), and .sort(). Lists are ideal for collections where items need to be added, removed, or modified.\n",
        "\n"
      ],
      "metadata": {
        "id": "6GZpeGgAWrZC"
      }
    },
    {
      "cell_type": "code",
      "source": [
        "my_list = [1, 2, 3]\n",
        "my_list.append(4)  # Adding an element\n",
        "print(my_list)  # Output: [1, 2, 3, 4]\n"
      ],
      "metadata": {
        "colab": {
          "base_uri": "https://localhost:8080/"
        },
        "id": "J_lTf1PsYaJo",
        "outputId": "f9ebd61c-96f0-4ce5-e05d-0ff75ceaa2d2"
      },
      "execution_count": null,
      "outputs": [
        {
          "output_type": "stream",
          "name": "stdout",
          "text": [
            "[1, 2, 3, 4]\n"
          ]
        }
      ]
    },
    {
      "cell_type": "markdown",
      "source": [
        "**Tuples**, on the other hand, are immutable, meaning their contents cannot be changed once created. They are defined with parentheses () and support fewer methods, mainly .count() and .index(). Tuples are typically used for fixed collections of items that should not change, such as coordinates or fixed data structures.\n",
        "\n"
      ],
      "metadata": {
        "id": "hf7vpIyUYfcv"
      }
    },
    {
      "cell_type": "code",
      "source": [
        "my_tuple = (1, 2, 3)\n",
        "# my_tuple[1] = 4  # This will raise a TypeError\n",
        "print(my_tuple.count(2))  # Output: 1\n"
      ],
      "metadata": {
        "colab": {
          "base_uri": "https://localhost:8080/"
        },
        "id": "kMotsAGOYnIn",
        "outputId": "2776048e-331f-411c-95d6-6b961f5c2617"
      },
      "execution_count": null,
      "outputs": [
        {
          "output_type": "stream",
          "name": "stdout",
          "text": [
            "1\n"
          ]
        }
      ]
    },
    {
      "cell_type": "markdown",
      "source": [
        "# 5) Describe the key features of sets and provide examples of their uses."
      ],
      "metadata": {
        "id": "TZVbw6rZZLNf"
      }
    },
    {
      "cell_type": "markdown",
      "source": [
        "Sets in Python are a built-in data type designed to handle collections of unique elements. They provide several key features and use cases that make them valuable in various programming scenarios.\n",
        "\n",
        "\n",
        "**Key Features of Sets**\n",
        "\n",
        "Unordered Collection: Sets do not maintain the order of elements. The position of elements is not guaranteed, and iterating over a set will not necessarily return elements in the order they were added.\n",
        "\n",
        "**Unique Elements**\n",
        "\n",
        "ets automatically eliminate duplicate entries. If you try to add a duplicate item, it will not be added to the set.\n",
        "\n",
        "**Mutable**\n",
        "\n",
        "Sets are mutable, meaning you can add or remove elements after the set is created. However, the elements themselves must be immutable types (e.g., numbers, strings).\n",
        "\n",
        "**No Indexing**\n",
        "\n",
        " Unlike lists, sets do not support indexing, slicing, or other sequence-like operations due to their unordered nature.\n",
        "\n",
        "\n",
        "\n",
        "\n",
        " **Uses of Sets**\n",
        "\n",
        "Removing Duplicates: Sets can be used to remove duplicate elements from a list quickly.\n"
      ],
      "metadata": {
        "id": "x03W1TBnZiKS"
      }
    },
    {
      "cell_type": "code",
      "source": [
        "my_list = [1, 2, 2, 3, 4, 4, 5]\n",
        "unique_elements = set(my_list)\n",
        "print(unique_elements)  # Output: {1, 2, 3, 4, 5}\n"
      ],
      "metadata": {
        "colab": {
          "base_uri": "https://localhost:8080/"
        },
        "id": "wU4xQF0_ak12",
        "outputId": "52768c21-34e0-47e9-d918-25e173341327"
      },
      "execution_count": null,
      "outputs": [
        {
          "output_type": "stream",
          "name": "stdout",
          "text": [
            "{1, 2, 3, 4, 5}\n"
          ]
        }
      ]
    },
    {
      "cell_type": "markdown",
      "source": [
        "Set Operations: Performing operations such as finding common elements or differences between data sets is straightforward with sets.\n",
        "\n"
      ],
      "metadata": {
        "id": "P6qvkW4NapNv"
      }
    },
    {
      "cell_type": "code",
      "source": [
        "students_A = {'Alice', 'Bob', 'Charlie'}\n",
        "students_B = {'Bob', 'David', 'Eve'}\n",
        "common_students = students_A & students_B\n",
        "print(common_students)  # Output: {'Bob'}\n"
      ],
      "metadata": {
        "colab": {
          "base_uri": "https://localhost:8080/"
        },
        "id": "44D_Exubatmt",
        "outputId": "4a1f08f3-7644-4c8a-d2c9-f0620c8e99e1"
      },
      "execution_count": null,
      "outputs": [
        {
          "output_type": "stream",
          "name": "stdout",
          "text": [
            "{'Bob'}\n"
          ]
        }
      ]
    },
    {
      "cell_type": "markdown",
      "source": [
        "Membership Testing: Sets offer efficient membership testing, which is faster than checking membership in a list.\n",
        "\n"
      ],
      "metadata": {
        "id": "WO8w04T3a1cX"
      }
    },
    {
      "cell_type": "code",
      "source": [
        "my_set = {1, 2, 3, 4}\n",
        "print(2 in my_set)  # Output: True\n",
        "print(5 in my_set)  # Output: False\n"
      ],
      "metadata": {
        "colab": {
          "base_uri": "https://localhost:8080/"
        },
        "id": "eK_OEoFUa3p9",
        "outputId": "1f23f6b5-745c-4f21-f79c-0bf24a356833"
      },
      "execution_count": null,
      "outputs": [
        {
          "output_type": "stream",
          "name": "stdout",
          "text": [
            "True\n",
            "False\n"
          ]
        }
      ]
    },
    {
      "cell_type": "markdown",
      "source": [
        "# 6) Discuss use cases of tuples and sets in python programming.\n",
        "\n"
      ],
      "metadata": {
        "id": "--yElW5Pa5v9"
      }
    },
    {
      "cell_type": "markdown",
      "source": [
        "Tuples and sets are essential Python data structures with distinct use cases due to their unique properties.\n",
        "\n",
        "**Tuples**\n",
        "\n",
        "Immutable Data: Tuples are immutable, making them ideal for fixed collections that shouldn’t change. They are used to group related data together, such as coordinates or records."
      ],
      "metadata": {
        "id": "XTT3hr2abc2d"
      }
    },
    {
      "cell_type": "code",
      "source": [
        "location = (40.7128, -74.0060)  # Latitude, Longitude\n"
      ],
      "metadata": {
        "id": "dG0WkATPboZD"
      },
      "execution_count": null,
      "outputs": []
    },
    {
      "cell_type": "markdown",
      "source": [
        "Function Return Values: Tuples can return multiple values from a function, providing a convenient way to handle multiple results.\n"
      ],
      "metadata": {
        "id": "4o1Ez0YmbvIV"
      }
    },
    {
      "cell_type": "code",
      "source": [
        "def min_max(values):\n",
        "    return min(values), max(values)\n"
      ],
      "metadata": {
        "id": "tAfvVW63bxwl"
      },
      "execution_count": null,
      "outputs": []
    },
    {
      "cell_type": "markdown",
      "source": [
        "Dictionary Keys: Due to their immutability, tuples can serve as keys in dictionaries."
      ],
      "metadata": {
        "id": "VODXhiyPb1IU"
      }
    },
    {
      "cell_type": "code",
      "source": [
        "location_info = {('Paris', 'France'): 'City of Lights'}\n"
      ],
      "metadata": {
        "id": "A4g05zkEb3HW"
      },
      "execution_count": null,
      "outputs": []
    },
    {
      "cell_type": "markdown",
      "source": [
        "**Sets**\n",
        "\n",
        "Removing Duplicates: Sets automatically eliminate duplicate values, making them useful for unique item collections.\n",
        "\n"
      ],
      "metadata": {
        "id": "izeV2Nl_b6UU"
      }
    },
    {
      "cell_type": "code",
      "source": [
        "items = [1, 2, 2, 3]\n",
        "unique_items = set(items)  # {1, 2, 3}\n"
      ],
      "metadata": {
        "id": "FGp8xtewcAYe"
      },
      "execution_count": null,
      "outputs": []
    },
    {
      "cell_type": "markdown",
      "source": [
        "Set Operations: Sets support operations like union, intersection, and difference, useful for comparing and combining data.\n",
        "\n"
      ],
      "metadata": {
        "id": "U--BlY9QcDPl"
      }
    },
    {
      "cell_type": "code",
      "source": [
        "set1 = {1, 2, 3}\n",
        "set2 = {3, 4, 5}\n",
        "print(set1 & set2)  # Intersection: {3}\n"
      ],
      "metadata": {
        "colab": {
          "base_uri": "https://localhost:8080/"
        },
        "id": "VSG9YjZfcGT3",
        "outputId": "0fa1eb5a-26a7-4e8a-ba8f-a08c110839ef"
      },
      "execution_count": null,
      "outputs": [
        {
          "output_type": "stream",
          "name": "stdout",
          "text": [
            "{3}\n"
          ]
        }
      ]
    },
    {
      "cell_type": "markdown",
      "source": [
        "Efficient Membership Testing: Sets offer fast membership tests, outperforming lists in performance.\n",
        "\n"
      ],
      "metadata": {
        "id": "w2b0bQnvcJwM"
      }
    },
    {
      "cell_type": "code",
      "source": [
        "numbers = {1, 2, 3}\n",
        "print(2 in numbers)  # True\n"
      ],
      "metadata": {
        "colab": {
          "base_uri": "https://localhost:8080/"
        },
        "id": "QtG8y00xcLB1",
        "outputId": "cb9cd499-5161-44c0-c94a-259deed0647f"
      },
      "execution_count": null,
      "outputs": [
        {
          "output_type": "stream",
          "name": "stdout",
          "text": [
            "True\n"
          ]
        }
      ]
    },
    {
      "cell_type": "markdown",
      "source": [
        "Tuples are great for fixed data, while sets excel in uniqueness and mathematical operations."
      ],
      "metadata": {
        "id": "xESubOjKcPl0"
      }
    },
    {
      "cell_type": "markdown",
      "source": [
        "# 7)  Describe how to add, modify and delete items in dictionary with examples."
      ],
      "metadata": {
        "id": "z03NQaOpcVAE"
      }
    },
    {
      "cell_type": "markdown",
      "source": [
        "In Python, dictionaries are mutable collections of key-value pairs, and you can perform various operations to manage them:\n",
        "\n",
        "**Adding Items**\n",
        "\n",
        "To add a new key-value pair to a dictionary, simply assign a value to a new key."
      ],
      "metadata": {
        "id": "-5ztioPqcqra"
      }
    },
    {
      "cell_type": "code",
      "source": [
        "my_dict = {'name': 'Alice', 'age': 30}\n",
        "my_dict['city'] = 'New York'  # Adding a new key-value pair\n",
        "print(my_dict)  # Output: {'name': 'Alice', 'age': 30, 'city': 'New York'}\n"
      ],
      "metadata": {
        "colab": {
          "base_uri": "https://localhost:8080/"
        },
        "id": "w75WAjWjc0lH",
        "outputId": "e49ce474-7c63-436d-caee-a5a988500a94"
      },
      "execution_count": null,
      "outputs": [
        {
          "output_type": "stream",
          "name": "stdout",
          "text": [
            "{'name': 'Alice', 'age': 30, 'city': 'New York'}\n"
          ]
        }
      ]
    },
    {
      "cell_type": "markdown",
      "source": [
        "**Modifying Items**\n",
        "\n",
        "\n",
        "To modify an existing item, reassign a new value to an existing key."
      ],
      "metadata": {
        "id": "FanzPgOKc4wL"
      }
    },
    {
      "cell_type": "code",
      "source": [
        "my_dict = {'name': 'Alice', 'age': 30}\n",
        "my_dict['age'] = 31  # Modifying the value of the key 'age'\n",
        "print(my_dict)  # Output: {'name': 'Alice', 'age': 31}\n"
      ],
      "metadata": {
        "colab": {
          "base_uri": "https://localhost:8080/"
        },
        "id": "BZmWd4GPc9JK",
        "outputId": "21be40ba-fb5f-4e65-8b2d-22f76dc9640c"
      },
      "execution_count": null,
      "outputs": [
        {
          "output_type": "stream",
          "name": "stdout",
          "text": [
            "{'name': 'Alice', 'age': 31}\n"
          ]
        }
      ]
    },
    {
      "cell_type": "markdown",
      "source": [
        "**Deleting Items**\n",
        "\n",
        "Using del statement: Removes the item with the specified key. Example:"
      ],
      "metadata": {
        "id": "ORGO_Ci4dE-q"
      }
    },
    {
      "cell_type": "code",
      "source": [
        "my_dict = {'name': 'Alice', 'age': 30, 'city': 'New York'}\n",
        "del my_dict['city']\n",
        "print(my_dict)  # Output: {'name': 'Alice', 'age': 30}\n"
      ],
      "metadata": {
        "colab": {
          "base_uri": "https://localhost:8080/"
        },
        "id": "I-4cNPGLdHxq",
        "outputId": "06be39f8-66d9-4597-be12-e44fe41012a5"
      },
      "execution_count": null,
      "outputs": [
        {
          "output_type": "stream",
          "name": "stdout",
          "text": [
            "{'name': 'Alice', 'age': 30}\n"
          ]
        }
      ]
    },
    {
      "cell_type": "markdown",
      "source": [
        "Using pop() method: Removes and returns the value associated with a key. Example:"
      ],
      "metadata": {
        "id": "8kcxeDrFdLa0"
      }
    },
    {
      "cell_type": "code",
      "source": [
        "my_dict = {'name': 'Alice', 'age': 30, 'city': 'New York'}\n",
        "removed_value = my_dict.pop('city')\n",
        "print(removed_value)  # Output: 'New York'\n",
        "print(my_dict)  # Output: {'name': 'Alice', 'age': 30}\n"
      ],
      "metadata": {
        "colab": {
          "base_uri": "https://localhost:8080/"
        },
        "id": "baoJTNqudM9q",
        "outputId": "16cf7a27-37b2-4c75-8f56-9b67e726d9e2"
      },
      "execution_count": null,
      "outputs": [
        {
          "output_type": "stream",
          "name": "stdout",
          "text": [
            "New York\n",
            "{'name': 'Alice', 'age': 30}\n"
          ]
        }
      ]
    },
    {
      "cell_type": "markdown",
      "source": [
        "# 8) Discuss the importance of dictionary keys being immutable and provide examples.\n",
        "\n"
      ],
      "metadata": {
        "id": "EXGg9cUzdTd0"
      }
    },
    {
      "cell_type": "markdown",
      "source": [
        "In Python, dictionary keys must be immutable to ensure reliable and efficient data management. Here’s why immutability is crucial:\n",
        "\n",
        "**Importance of Immutable Dictionary Keys**\n",
        "\n",
        "Hashing Consistency: Keys are hashed to determine their position in the dictionary’s internal data structure. An immutable key ensures that its hash value remains constant, which is essential for the dictionary’s efficient data retrieval. Mutable keys could lead to inconsistent hash values and errors."
      ],
      "metadata": {
        "id": "CCFOUorbdsAB"
      }
    },
    {
      "cell_type": "code",
      "source": [
        "my_dict = {('apple', 1): 'fruit'}\n",
        "# Keys are tuples (immutable)\n"
      ],
      "metadata": {
        "id": "sB5H6XtYd8Dd"
      },
      "execution_count": null,
      "outputs": []
    },
    {
      "cell_type": "markdown",
      "source": [
        "Data Integrity: Immutable keys ensure that the keys used for storing and retrieving data remain unchanged. This prevents potential issues with data consistency and integrity, as the key's value cannot be altered after it is used."
      ],
      "metadata": {
        "id": "xDM2PkV4eEZg"
      }
    },
    {
      "cell_type": "code",
      "source": [
        "my_dict = {1: 'one'}\n",
        "# The key '1' remains constant\n"
      ],
      "metadata": {
        "id": "OPLI6doYeFoA"
      },
      "execution_count": null,
      "outputs": []
    },
    {
      "cell_type": "markdown",
      "source": [
        "Predictable Behavior: Immutability ensures that dictionary operations such as lookup and deletion are predictable. Mutable keys, like lists, could lead to unpredictable behavior or data corruption if their content changes."
      ],
      "metadata": {
        "id": "jyaGccyEeJe4"
      }
    },
    {
      "cell_type": "code",
      "source": [
        "my_dict = {'name': 'Alice'}  # 'name' is an immutable string\n",
        "print(my_dict['name'])  # Output: Alice\n"
      ],
      "metadata": {
        "colab": {
          "base_uri": "https://localhost:8080/"
        },
        "id": "ycmCRdz0eLgo",
        "outputId": "9dc86046-6171-480a-df9d-f4c2b593311f"
      },
      "execution_count": null,
      "outputs": [
        {
          "output_type": "stream",
          "name": "stdout",
          "text": [
            "Alice\n"
          ]
        }
      ]
    },
    {
      "cell_type": "markdown",
      "source": [
        "Immutable keys are essential for maintaining the stability and performance of dictionaries in Python."
      ],
      "metadata": {
        "id": "aIfBcfwFeQ4A"
      }
    },
    {
      "cell_type": "code",
      "source": [],
      "metadata": {
        "id": "2Rd1IXTAd3F7"
      },
      "execution_count": null,
      "outputs": []
    }
  ]
}